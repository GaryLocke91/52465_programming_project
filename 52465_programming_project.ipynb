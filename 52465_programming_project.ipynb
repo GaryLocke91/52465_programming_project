{
 "cells": [
  {
   "cell_type": "markdown",
   "metadata": {},
   "source": [
    "# Simulating a real-world phenomenon\n",
    "***\n",
    "\n",
    "### Table of contents\n",
    "\n",
    "#### 1. Introduction\n",
    "\n",
    "#### 2. Variables\n",
    "\n",
    "#### 3. Distributions\n",
    "\n",
    "#### 4. Relationships\n",
    "\n",
    "#### 5. Conclusion\n",
    "\n",
    "#### 6. References"
   ]
  },
  {
   "cell_type": "markdown",
   "metadata": {},
   "source": [
    "<br>\n",
    "\n",
    "### 1. Introduction\n",
    "***"
   ]
  },
  {
   "cell_type": "markdown",
   "metadata": {},
   "source": [
    "### 2. Variables\n",
    "***"
   ]
  }
 ],
 "metadata": {
  "kernelspec": {
   "display_name": "Python 3",
   "language": "python",
   "name": "python3"
  },
  "language_info": {
   "codemirror_mode": {
    "name": "ipython",
    "version": 3
   },
   "file_extension": ".py",
   "mimetype": "text/x-python",
   "name": "python",
   "nbconvert_exporter": "python",
   "pygments_lexer": "ipython3",
   "version": "3.8.3"
  }
 },
 "nbformat": 4,
 "nbformat_minor": 4
}
